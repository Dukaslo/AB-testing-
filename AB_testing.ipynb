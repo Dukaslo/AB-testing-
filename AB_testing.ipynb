{
 "cells": [
  {
   "cell_type": "code",
   "execution_count": 1,
   "id": "df9e3e7d",
   "metadata": {},
   "outputs": [],
   "source": [
    "import numpy as np\n",
    "import pandas as pd\n",
    "import matplotlib.pyplot as plt\n",
    "import random\n",
    "from statsmodels.stats.proportion import proportions_ztest\n",
    "%matplotlib inline"
   ]
  },
  {
   "cell_type": "markdown",
   "id": "7153dc69",
   "metadata": {},
   "source": [
    "# Исследуем датасет "
   ]
  },
  {
   "cell_type": "code",
   "execution_count": 2,
   "id": "53ed28ac",
   "metadata": {},
   "outputs": [
    {
     "data": {
      "text/html": [
       "<div>\n",
       "<style scoped>\n",
       "    .dataframe tbody tr th:only-of-type {\n",
       "        vertical-align: middle;\n",
       "    }\n",
       "\n",
       "    .dataframe tbody tr th {\n",
       "        vertical-align: top;\n",
       "    }\n",
       "\n",
       "    .dataframe thead th {\n",
       "        text-align: right;\n",
       "    }\n",
       "</style>\n",
       "<table border=\"1\" class=\"dataframe\">\n",
       "  <thead>\n",
       "    <tr style=\"text-align: right;\">\n",
       "      <th></th>\n",
       "      <th>user_id</th>\n",
       "      <th>group</th>\n",
       "      <th>views</th>\n",
       "      <th>clicks</th>\n",
       "    </tr>\n",
       "  </thead>\n",
       "  <tbody>\n",
       "    <tr>\n",
       "      <th>0</th>\n",
       "      <td>1</td>\n",
       "      <td>control</td>\n",
       "      <td>10.0</td>\n",
       "      <td>0.0</td>\n",
       "    </tr>\n",
       "    <tr>\n",
       "      <th>1</th>\n",
       "      <td>2</td>\n",
       "      <td>control</td>\n",
       "      <td>1.0</td>\n",
       "      <td>0.0</td>\n",
       "    </tr>\n",
       "    <tr>\n",
       "      <th>2</th>\n",
       "      <td>3</td>\n",
       "      <td>control</td>\n",
       "      <td>1.0</td>\n",
       "      <td>0.0</td>\n",
       "    </tr>\n",
       "    <tr>\n",
       "      <th>3</th>\n",
       "      <td>4</td>\n",
       "      <td>control</td>\n",
       "      <td>2.0</td>\n",
       "      <td>0.0</td>\n",
       "    </tr>\n",
       "    <tr>\n",
       "      <th>4</th>\n",
       "      <td>5</td>\n",
       "      <td>control</td>\n",
       "      <td>3.0</td>\n",
       "      <td>0.0</td>\n",
       "    </tr>\n",
       "  </tbody>\n",
       "</table>\n",
       "</div>"
      ],
      "text/plain": [
       "   user_id    group  views  clicks\n",
       "0        1  control   10.0     0.0\n",
       "1        2  control    1.0     0.0\n",
       "2        3  control    1.0     0.0\n",
       "3        4  control    2.0     0.0\n",
       "4        5  control    3.0     0.0"
      ]
     },
     "execution_count": 2,
     "metadata": {},
     "output_type": "execute_result"
    }
   ],
   "source": [
    "df = pd.read_csv('ab_test_results_aggregated_views_clicks_2.csv')\n",
    "df.head()"
   ]
  },
  {
   "cell_type": "code",
   "execution_count": 3,
   "id": "305b923e",
   "metadata": {},
   "outputs": [
    {
     "data": {
      "text/plain": [
       "(120000, 4)"
      ]
     },
     "execution_count": 3,
     "metadata": {},
     "output_type": "execute_result"
    }
   ],
   "source": [
    "# Размер датасета\n",
    "df.shape"
   ]
  },
  {
   "cell_type": "code",
   "execution_count": 5,
   "id": "1d4ee939",
   "metadata": {},
   "outputs": [
    {
     "name": "stdout",
     "output_type": "stream",
     "text": [
      "<class 'pandas.core.frame.DataFrame'>\n",
      "RangeIndex: 120000 entries, 0 to 119999\n",
      "Data columns (total 4 columns):\n",
      " #   Column   Non-Null Count   Dtype  \n",
      "---  ------   --------------   -----  \n",
      " 0   user_id  120000 non-null  int64  \n",
      " 1   group    120000 non-null  object \n",
      " 2   views    120000 non-null  float64\n",
      " 3   clicks   120000 non-null  float64\n",
      "dtypes: float64(2), int64(1), object(1)\n",
      "memory usage: 3.7+ MB\n"
     ]
    }
   ],
   "source": [
    "df.info()"
   ]
  },
  {
   "cell_type": "code",
   "execution_count": 7,
   "id": "abb562ba",
   "metadata": {},
   "outputs": [
    {
     "data": {
      "text/html": [
       "<div>\n",
       "<style scoped>\n",
       "    .dataframe tbody tr th:only-of-type {\n",
       "        vertical-align: middle;\n",
       "    }\n",
       "\n",
       "    .dataframe tbody tr th {\n",
       "        vertical-align: top;\n",
       "    }\n",
       "\n",
       "    .dataframe thead th {\n",
       "        text-align: right;\n",
       "    }\n",
       "</style>\n",
       "<table border=\"1\" class=\"dataframe\">\n",
       "  <thead>\n",
       "    <tr style=\"text-align: right;\">\n",
       "      <th></th>\n",
       "      <th>user_id</th>\n",
       "      <th>views</th>\n",
       "      <th>clicks</th>\n",
       "    </tr>\n",
       "  </thead>\n",
       "  <tbody>\n",
       "    <tr>\n",
       "      <th>count</th>\n",
       "      <td>120000.000000</td>\n",
       "      <td>120000.000000</td>\n",
       "      <td>120000.000000</td>\n",
       "    </tr>\n",
       "    <tr>\n",
       "      <th>mean</th>\n",
       "      <td>60000.500000</td>\n",
       "      <td>4.991075</td>\n",
       "      <td>0.182692</td>\n",
       "    </tr>\n",
       "    <tr>\n",
       "      <th>std</th>\n",
       "      <td>34641.160489</td>\n",
       "      <td>5.915200</td>\n",
       "      <td>0.472547</td>\n",
       "    </tr>\n",
       "    <tr>\n",
       "      <th>min</th>\n",
       "      <td>1.000000</td>\n",
       "      <td>1.000000</td>\n",
       "      <td>0.000000</td>\n",
       "    </tr>\n",
       "    <tr>\n",
       "      <th>25%</th>\n",
       "      <td>30000.750000</td>\n",
       "      <td>2.000000</td>\n",
       "      <td>0.000000</td>\n",
       "    </tr>\n",
       "    <tr>\n",
       "      <th>50%</th>\n",
       "      <td>60000.500000</td>\n",
       "      <td>3.000000</td>\n",
       "      <td>0.000000</td>\n",
       "    </tr>\n",
       "    <tr>\n",
       "      <th>75%</th>\n",
       "      <td>90000.250000</td>\n",
       "      <td>6.000000</td>\n",
       "      <td>0.000000</td>\n",
       "    </tr>\n",
       "    <tr>\n",
       "      <th>max</th>\n",
       "      <td>120000.000000</td>\n",
       "      <td>205.000000</td>\n",
       "      <td>9.000000</td>\n",
       "    </tr>\n",
       "  </tbody>\n",
       "</table>\n",
       "</div>"
      ],
      "text/plain": [
       "             user_id          views         clicks\n",
       "count  120000.000000  120000.000000  120000.000000\n",
       "mean    60000.500000       4.991075       0.182692\n",
       "std     34641.160489       5.915200       0.472547\n",
       "min         1.000000       1.000000       0.000000\n",
       "25%     30000.750000       2.000000       0.000000\n",
       "50%     60000.500000       3.000000       0.000000\n",
       "75%     90000.250000       6.000000       0.000000\n",
       "max    120000.000000     205.000000       9.000000"
      ]
     },
     "execution_count": 7,
     "metadata": {},
     "output_type": "execute_result"
    }
   ],
   "source": [
    "df.describe()"
   ]
  },
  {
   "cell_type": "code",
   "execution_count": 8,
   "id": "a0609982",
   "metadata": {},
   "outputs": [
    {
     "data": {
      "text/plain": [
       "group\n",
       "control    60000\n",
       "test       60000\n",
       "Name: user_id, dtype: int64"
      ]
     },
     "execution_count": 8,
     "metadata": {},
     "output_type": "execute_result"
    }
   ],
   "source": [
    "# Кол-во пользователей в 2-х группах\n",
    "\n",
    "df.groupby('group')['user_id'].count()"
   ]
  },
  {
   "cell_type": "code",
   "execution_count": 9,
   "id": "2fa19d87",
   "metadata": {},
   "outputs": [
    {
     "data": {
      "text/plain": [
       "group\n",
       "control    4.95240\n",
       "test       5.02975\n",
       "Name: views, dtype: float64"
      ]
     },
     "execution_count": 9,
     "metadata": {},
     "output_type": "execute_result"
    }
   ],
   "source": [
    "# Среднее кол-во просмотров\n",
    "\n",
    "df.groupby('group')['views'].mean()"
   ]
  },
  {
   "cell_type": "code",
   "execution_count": 10,
   "id": "c7729886",
   "metadata": {},
   "outputs": [
    {
     "data": {
      "text/plain": [
       "group\n",
       "control    0.171717\n",
       "test       0.193667\n",
       "Name: clicks, dtype: float64"
      ]
     },
     "execution_count": 10,
     "metadata": {},
     "output_type": "execute_result"
    }
   ],
   "source": [
    "# Среднее кол-во кликов\n",
    "\n",
    "df.groupby('group')['clicks'].mean()"
   ]
  },
  {
   "cell_type": "markdown",
   "id": "293321c1",
   "metadata": {},
   "source": [
    "* Нулевая гипотеза: Кол-во просмотров и кликов в тестовой группе не отличается от контрольной группы.\n",
    "* Альтернативная гипотеза: Кол-во просмотров и кликов в тестовой группе больше просмотров и кликов в контрольной группе"
   ]
  },
  {
   "cell_type": "markdown",
   "id": "27a65454",
   "metadata": {},
   "source": [
    "# z-test для  views"
   ]
  },
  {
   "cell_type": "code",
   "execution_count": 12,
   "id": "8c426e13",
   "metadata": {},
   "outputs": [],
   "source": [
    "control = df[df['group'] == 'control']\n",
    "test = df[df['group'] == 'test']"
   ]
  },
  {
   "cell_type": "code",
   "execution_count": 21,
   "id": "20681ad8",
   "metadata": {},
   "outputs": [],
   "source": [
    "ns1_views = sum(control['views']) # общее кол-во просмотров в контрольной группе\n",
    "ns2_views = sum(test['views']) # общее кол-во просмотров в тестовой группе\n",
    "\n",
    "n = control.shape[0] # размер группы (у нас равное кол-во человек)\n",
    "\n",
    "sucs = np.array([ns1_views, ns2_views]) # массив суммы действий\n",
    "count = np.array([n, n]) # массив кол-ва человек"
   ]
  },
  {
   "cell_type": "code",
   "execution_count": 23,
   "id": "74c54034",
   "metadata": {},
   "outputs": [
    {
     "name": "stdout",
     "output_type": "stream",
     "text": [
      "p-value:  0.0013416302983786472\n"
     ]
    }
   ],
   "source": [
    "# z-test для views\n",
    "\n",
    "stat, o_p = proportions_ztest(count, sucs)\n",
    "\n",
    "p_value_views = o_p/2\n",
    "\n",
    "print('p-value: ', p_value_views)"
   ]
  },
  {
   "cell_type": "markdown",
   "id": "59b3559a",
   "metadata": {},
   "source": [
    "z-test для views показал что p-value меньше уровня значимости в 5 %, нулевая гипотеза для views отвергается"
   ]
  },
  {
   "cell_type": "markdown",
   "id": "1d0180e4",
   "metadata": {},
   "source": [
    "#  z-test для  clicks"
   ]
  },
  {
   "cell_type": "code",
   "execution_count": 24,
   "id": "50f1ae23",
   "metadata": {},
   "outputs": [],
   "source": [
    "ns1_clicks = sum(control['clicks']) # общее кол-во кликов в контрольной группе\n",
    "ns2_clicks = sum(test['clicks']) # общее кол-во кликов в тестовой группе\n",
    "\n",
    "n = control.shape[0] # размер группы (у нас равное кол-во человек)\n",
    "\n",
    "sucs = np.array([ns1_clicks, ns2_clicks]) # массив суммы действий\n",
    "count = np.array([n, n]) # массив кол-ва человек"
   ]
  },
  {
   "cell_type": "code",
   "execution_count": 25,
   "id": "8cea446a",
   "metadata": {},
   "outputs": [
    {
     "name": "stdout",
     "output_type": "stream",
     "text": [
      "p-value:  3.830369173235639e-23\n"
     ]
    }
   ],
   "source": [
    "# z-test для clicks\n",
    "\n",
    "stat, o_p = proportions_ztest(sucs, count)\n",
    "\n",
    "p_value_views = o_p/2\n",
    "\n",
    "print('p-value: ', p_value_views)"
   ]
  },
  {
   "cell_type": "markdown",
   "id": "a4a834d1",
   "metadata": {},
   "source": [
    "z-test для clicks показал что p-value меньше уровня значимости в 5 %, нулевая гипотеза для clicks отвергается"
   ]
  },
  {
   "cell_type": "markdown",
   "id": "5b5c8d23",
   "metadata": {},
   "source": [
    "Для подтверждения наших выводов необходимо применить bootstrap"
   ]
  },
  {
   "cell_type": "markdown",
   "id": "9086058f",
   "metadata": {},
   "source": [
    "# А/Б тест bootstrap для views"
   ]
  },
  {
   "cell_type": "code",
   "execution_count": 35,
   "id": "704e2fd4",
   "metadata": {},
   "outputs": [],
   "source": [
    "# Получаем значения столбца views для control и test\n",
    "\n",
    "views_control = control['views'].values\n",
    "views_test = test['views'].values\n",
    "\n",
    "p_control = views_control.mean() # конверсия контрольной группы\n",
    "p_test = views_test.mean() # конверсия тестовой группы\n",
    "\n",
    "dif = p_test- p_control # разница в долях конверсий\n",
    "\n",
    "N = 1500"
   ]
  },
  {
   "cell_type": "code",
   "execution_count": 39,
   "id": "d326da69",
   "metadata": {},
   "outputs": [
    {
     "data": {
      "text/plain": [
       "0.496"
      ]
     },
     "execution_count": 39,
     "metadata": {},
     "output_type": "execute_result"
    }
   ],
   "source": [
    "# Бутстреп для views\n",
    "\n",
    "differences = np.zeros(N)\n",
    "\n",
    "for i in range(0, N):\n",
    "    s1 = random.choices(views_control, k = len(views_control))\n",
    "    s2 = random.choices(views_test, k = len(views_test))\n",
    "    p1 = np.mean(s1)\n",
    "    p2 = np.mean(s2)\n",
    "    differences[i] = p2 - p1\n",
    "    \n",
    "p_value = sum(differences >= dif) / N\n",
    "\n",
    "p_value"
   ]
  },
  {
   "cell_type": "code",
   "execution_count": 48,
   "id": "da05f2d9",
   "metadata": {},
   "outputs": [
    {
     "data": {
      "image/png": "[encoded data removed]",
      "text/plain": [
       "<Figure size 600x600 with 1 Axes>"
      ]
     },
     "metadata": {},
     "output_type": "display_data"
    }
   ],
   "source": [
    "# Гистограмма \n",
    "\n",
    "plt.figure(figsize = (6, 6))\n",
    "plt.hist(differences, color = 'skyblue', edgecolor = 'black')\n",
    "plt.axvline(x = dif, color = 'red')\n",
    "plt.title('Гистограмма распределения views')\n",
    "plt.xlabel('Значение')\n",
    "plt.ylabel('Частота')\n",
    "\n",
    "plt.show()"
   ]
  },
  {
   "cell_type": "markdown",
   "id": "072a40eb",
   "metadata": {},
   "source": [
    "Как видно из на графике, гистограмма смещена в право относительно 0. Необходимо центрировать данные"
   ]
  },
  {
   "cell_type": "code",
   "execution_count": 49,
   "id": "7d3674d5",
   "metadata": {},
   "outputs": [
    {
     "data": {
      "image/png": "[encoded data removed]",
      "text/plain": [
       "<Figure size 600x600 with 1 Axes>"
      ]
     },
     "metadata": {},
     "output_type": "display_data"
    }
   ],
   "source": [
    "plt.figure(figsize = (6, 6))\n",
    "plt.hist(differences - np.mean(differences), color = 'skyblue', edgecolor = 'black')\n",
    "plt.axvline(x = dif, color = 'red')\n",
    "plt.title('Гистограмма распределения views')\n",
    "plt.xlabel('Значение')\n",
    "plt.ylabel('Частота')\n",
    "\n",
    "plt.show()"
   ]
  },
  {
   "cell_type": "code",
   "execution_count": 44,
   "id": "386603ca",
   "metadata": {},
   "outputs": [
    {
     "data": {
      "text/plain": [
       "0.011333333333333334"
      ]
     },
     "execution_count": 44,
     "metadata": {},
     "output_type": "execute_result"
    }
   ],
   "source": [
    "p_value_cent = sum((differences - np.mean(differences)) > dif) / N\n",
    "\n",
    "p_value_cent"
   ]
  },
  {
   "cell_type": "markdown",
   "id": "e127235f",
   "metadata": {},
   "source": [
    "bootstrap для views показал что p-value меньше уровня значимости в 5 %, нулевая гипотеза для clicks отвергается"
   ]
  },
  {
   "cell_type": "markdown",
   "id": "82e59679",
   "metadata": {},
   "source": [
    "#  А/Б тест bootstrap для clicks"
   ]
  },
  {
   "cell_type": "code",
   "execution_count": 50,
   "id": "eaafcac3",
   "metadata": {},
   "outputs": [],
   "source": [
    "# Получаем значения столбца clicks для control и test\n",
    "\n",
    "clicks_control = control['clicks'].values\n",
    "clicks_test = test['clicks'].values\n",
    "\n",
    "p_control = clicks_control.mean() # конверсия контрольной группы\n",
    "p_test = clicks_test.mean() # конверсия тестовой группы\n",
    "\n",
    "dif = p_test- p_control # разница в долях конверсий\n",
    "\n",
    "N = 1500"
   ]
  },
  {
   "cell_type": "code",
   "execution_count": 51,
   "id": "76c69fc9",
   "metadata": {},
   "outputs": [
    {
     "data": {
      "text/plain": [
       "0.506"
      ]
     },
     "execution_count": 51,
     "metadata": {},
     "output_type": "execute_result"
    }
   ],
   "source": [
    "# Бутстреп для clicks\n",
    "\n",
    "differences = np.zeros(N)\n",
    "\n",
    "for i in range(0, N):\n",
    "    s1 = random.choices(clicks_control, k = len(clicks_control))\n",
    "    s2 = random.choices(clicks_test, k = len(clicks_test))\n",
    "    p1 = np.mean(s1)\n",
    "    p2 = np.mean(s2)\n",
    "    differences[i] = p2 - p1\n",
    "    \n",
    "p_value = sum(differences >= dif) / N\n",
    "\n",
    "p_value"
   ]
  },
  {
   "cell_type": "code",
   "execution_count": 52,
   "id": "a6c85533",
   "metadata": {},
   "outputs": [
    {
     "data": {
      "image/png": "[encoded data removed]",
      "text/plain": [
       "<Figure size 600x600 with 1 Axes>"
      ]
     },
     "metadata": {},
     "output_type": "display_data"
    }
   ],
   "source": [
    "# Гистограмма \n",
    "\n",
    "plt.figure(figsize = (6, 6))\n",
    "plt.hist(differences, color = 'skyblue', edgecolor = 'black')\n",
    "plt.axvline(x = dif, color = 'red')\n",
    "plt.title('Гистограмма распределения clicks')\n",
    "plt.xlabel('Значение')\n",
    "plt.ylabel('Частота')\n",
    "\n",
    "plt.show()"
   ]
  },
  {
   "cell_type": "markdown",
   "id": "9da8509d",
   "metadata": {},
   "source": [
    "Как видно из на графике, гистограмма смещена в право относительно 0. Необходимо центрировать данные"
   ]
  },
  {
   "cell_type": "code",
   "execution_count": 54,
   "id": "c1451515",
   "metadata": {},
   "outputs": [
    {
     "data": {
      "image/png": "[encoded data removed]",
      "text/plain": [
       "<Figure size 600x600 with 1 Axes>"
      ]
     },
     "metadata": {},
     "output_type": "display_data"
    }
   ],
   "source": [
    "plt.figure(figsize = (6, 6))\n",
    "plt.hist(differences - np.mean(differences), color = 'skyblue', edgecolor = 'black')\n",
    "plt.axvline(x = dif, color = 'red')\n",
    "plt.title('Гистограмма распределения views')\n",
    "plt.xlabel('Значение')\n",
    "plt.ylabel('Частота')\n",
    "\n",
    "plt.show()"
   ]
  },
  {
   "cell_type": "code",
   "execution_count": 55,
   "id": "2ae32510",
   "metadata": {},
   "outputs": [
    {
     "data": {
      "text/plain": [
       "0.0"
      ]
     },
     "execution_count": 55,
     "metadata": {},
     "output_type": "execute_result"
    }
   ],
   "source": [
    "p_value_cent = sum((differences - np.mean(differences)) > dif) / N\n",
    "\n",
    "p_value_cent"
   ]
  },
  {
   "cell_type": "markdown",
   "id": "4d9e298a",
   "metadata": {},
   "source": [
    "bootstrap для views показал что p-value меньше уровня значимости в 5 %, нулевая гипотеза для clicks отвергается"
   ]
  },
  {
   "cell_type": "markdown",
   "id": "ca003d1a",
   "metadata": {},
   "source": [
    "# Вывод"
   ]
  },
  {
   "cell_type": "markdown",
   "id": "273e0ef6",
   "metadata": {},
   "source": [
    "Итак, результаты бутстрапа и z-теста говорят нам о том, что внедрение новоего дизайна сайта оправдано и выгодно."
   ]
  }
 ],
 "metadata": {
  "kernelspec": {
   "display_name": "Python 3 (ipykernel)",
   "language": "python",
   "name": "python3"
  },
  "language_info": {
   "codemirror_mode": {
    "name": "ipython",
    "version": 3
   },
   "file_extension": ".py",
   "mimetype": "text/x-python",
   "name": "python",
   "nbconvert_exporter": "python",
   "pygments_lexer": "ipython3",
   "version": "3.10.9"
  }
 },
 "nbformat": 4,
 "nbformat_minor": 5
}
